{
  "nbformat": 4,
  "nbformat_minor": 0,
  "metadata": {
    "colab": {
      "provenance": [],
      "include_colab_link": true
    },
    "kernelspec": {
      "name": "python3",
      "display_name": "Python 3"
    },
    "language_info": {
      "name": "python"
    }
  },
  "cells": [
    {
      "cell_type": "markdown",
      "metadata": {
        "id": "view-in-github",
        "colab_type": "text"
      },
      "source": [
        "<a href=\"https://colab.research.google.com/github/rebeca07-pedrozo/Terminal-Ala-Norte-/blob/main/AutomatizacionDatos.ipynb\" target=\"_parent\"><img src=\"https://colab.research.google.com/assets/colab-badge.svg\" alt=\"Open In Colab\"/></a>"
      ]
    },
    {
      "cell_type": "code",
      "execution_count": 2,
      "metadata": {
        "id": "2VY-xjp3ZCgA",
        "colab": {
          "base_uri": "https://localhost:8080/",
          "height": 73
        },
        "outputId": "b1812bc7-7dc6-48a5-814c-7e84bec7b1a3"
      },
      "outputs": [
        {
          "output_type": "display_data",
          "data": {
            "text/plain": [
              "<IPython.core.display.HTML object>"
            ],
            "text/html": [
              "\n",
              "     <input type=\"file\" id=\"files-bd693c7f-37d1-4194-9147-c5b932e5e42d\" name=\"files[]\" multiple disabled\n",
              "        style=\"border:none\" />\n",
              "     <output id=\"result-bd693c7f-37d1-4194-9147-c5b932e5e42d\">\n",
              "      Upload widget is only available when the cell has been executed in the\n",
              "      current browser session. Please rerun this cell to enable.\n",
              "      </output>\n",
              "      <script>// Copyright 2017 Google LLC\n",
              "//\n",
              "// Licensed under the Apache License, Version 2.0 (the \"License\");\n",
              "// you may not use this file except in compliance with the License.\n",
              "// You may obtain a copy of the License at\n",
              "//\n",
              "//      http://www.apache.org/licenses/LICENSE-2.0\n",
              "//\n",
              "// Unless required by applicable law or agreed to in writing, software\n",
              "// distributed under the License is distributed on an \"AS IS\" BASIS,\n",
              "// WITHOUT WARRANTIES OR CONDITIONS OF ANY KIND, either express or implied.\n",
              "// See the License for the specific language governing permissions and\n",
              "// limitations under the License.\n",
              "\n",
              "/**\n",
              " * @fileoverview Helpers for google.colab Python module.\n",
              " */\n",
              "(function(scope) {\n",
              "function span(text, styleAttributes = {}) {\n",
              "  const element = document.createElement('span');\n",
              "  element.textContent = text;\n",
              "  for (const key of Object.keys(styleAttributes)) {\n",
              "    element.style[key] = styleAttributes[key];\n",
              "  }\n",
              "  return element;\n",
              "}\n",
              "\n",
              "// Max number of bytes which will be uploaded at a time.\n",
              "const MAX_PAYLOAD_SIZE = 100 * 1024;\n",
              "\n",
              "function _uploadFiles(inputId, outputId) {\n",
              "  const steps = uploadFilesStep(inputId, outputId);\n",
              "  const outputElement = document.getElementById(outputId);\n",
              "  // Cache steps on the outputElement to make it available for the next call\n",
              "  // to uploadFilesContinue from Python.\n",
              "  outputElement.steps = steps;\n",
              "\n",
              "  return _uploadFilesContinue(outputId);\n",
              "}\n",
              "\n",
              "// This is roughly an async generator (not supported in the browser yet),\n",
              "// where there are multiple asynchronous steps and the Python side is going\n",
              "// to poll for completion of each step.\n",
              "// This uses a Promise to block the python side on completion of each step,\n",
              "// then passes the result of the previous step as the input to the next step.\n",
              "function _uploadFilesContinue(outputId) {\n",
              "  const outputElement = document.getElementById(outputId);\n",
              "  const steps = outputElement.steps;\n",
              "\n",
              "  const next = steps.next(outputElement.lastPromiseValue);\n",
              "  return Promise.resolve(next.value.promise).then((value) => {\n",
              "    // Cache the last promise value to make it available to the next\n",
              "    // step of the generator.\n",
              "    outputElement.lastPromiseValue = value;\n",
              "    return next.value.response;\n",
              "  });\n",
              "}\n",
              "\n",
              "/**\n",
              " * Generator function which is called between each async step of the upload\n",
              " * process.\n",
              " * @param {string} inputId Element ID of the input file picker element.\n",
              " * @param {string} outputId Element ID of the output display.\n",
              " * @return {!Iterable<!Object>} Iterable of next steps.\n",
              " */\n",
              "function* uploadFilesStep(inputId, outputId) {\n",
              "  const inputElement = document.getElementById(inputId);\n",
              "  inputElement.disabled = false;\n",
              "\n",
              "  const outputElement = document.getElementById(outputId);\n",
              "  outputElement.innerHTML = '';\n",
              "\n",
              "  const pickedPromise = new Promise((resolve) => {\n",
              "    inputElement.addEventListener('change', (e) => {\n",
              "      resolve(e.target.files);\n",
              "    });\n",
              "  });\n",
              "\n",
              "  const cancel = document.createElement('button');\n",
              "  inputElement.parentElement.appendChild(cancel);\n",
              "  cancel.textContent = 'Cancel upload';\n",
              "  const cancelPromise = new Promise((resolve) => {\n",
              "    cancel.onclick = () => {\n",
              "      resolve(null);\n",
              "    };\n",
              "  });\n",
              "\n",
              "  // Wait for the user to pick the files.\n",
              "  const files = yield {\n",
              "    promise: Promise.race([pickedPromise, cancelPromise]),\n",
              "    response: {\n",
              "      action: 'starting',\n",
              "    }\n",
              "  };\n",
              "\n",
              "  cancel.remove();\n",
              "\n",
              "  // Disable the input element since further picks are not allowed.\n",
              "  inputElement.disabled = true;\n",
              "\n",
              "  if (!files) {\n",
              "    return {\n",
              "      response: {\n",
              "        action: 'complete',\n",
              "      }\n",
              "    };\n",
              "  }\n",
              "\n",
              "  for (const file of files) {\n",
              "    const li = document.createElement('li');\n",
              "    li.append(span(file.name, {fontWeight: 'bold'}));\n",
              "    li.append(span(\n",
              "        `(${file.type || 'n/a'}) - ${file.size} bytes, ` +\n",
              "        `last modified: ${\n",
              "            file.lastModifiedDate ? file.lastModifiedDate.toLocaleDateString() :\n",
              "                                    'n/a'} - `));\n",
              "    const percent = span('0% done');\n",
              "    li.appendChild(percent);\n",
              "\n",
              "    outputElement.appendChild(li);\n",
              "\n",
              "    const fileDataPromise = new Promise((resolve) => {\n",
              "      const reader = new FileReader();\n",
              "      reader.onload = (e) => {\n",
              "        resolve(e.target.result);\n",
              "      };\n",
              "      reader.readAsArrayBuffer(file);\n",
              "    });\n",
              "    // Wait for the data to be ready.\n",
              "    let fileData = yield {\n",
              "      promise: fileDataPromise,\n",
              "      response: {\n",
              "        action: 'continue',\n",
              "      }\n",
              "    };\n",
              "\n",
              "    // Use a chunked sending to avoid message size limits. See b/62115660.\n",
              "    let position = 0;\n",
              "    do {\n",
              "      const length = Math.min(fileData.byteLength - position, MAX_PAYLOAD_SIZE);\n",
              "      const chunk = new Uint8Array(fileData, position, length);\n",
              "      position += length;\n",
              "\n",
              "      const base64 = btoa(String.fromCharCode.apply(null, chunk));\n",
              "      yield {\n",
              "        response: {\n",
              "          action: 'append',\n",
              "          file: file.name,\n",
              "          data: base64,\n",
              "        },\n",
              "      };\n",
              "\n",
              "      let percentDone = fileData.byteLength === 0 ?\n",
              "          100 :\n",
              "          Math.round((position / fileData.byteLength) * 100);\n",
              "      percent.textContent = `${percentDone}% done`;\n",
              "\n",
              "    } while (position < fileData.byteLength);\n",
              "  }\n",
              "\n",
              "  // All done.\n",
              "  yield {\n",
              "    response: {\n",
              "      action: 'complete',\n",
              "    }\n",
              "  };\n",
              "}\n",
              "\n",
              "scope.google = scope.google || {};\n",
              "scope.google.colab = scope.google.colab || {};\n",
              "scope.google.colab._files = {\n",
              "  _uploadFiles,\n",
              "  _uploadFilesContinue,\n",
              "};\n",
              "})(self);\n",
              "</script> "
            ]
          },
          "metadata": {}
        },
        {
          "output_type": "stream",
          "name": "stdout",
          "text": [
            "Saving buses.txt to buses.txt\n"
          ]
        }
      ],
      "source": [
        "from google.colab import files\n",
        "uploaded = files.upload()\n"
      ]
    },
    {
      "cell_type": "code",
      "source": [
        "import re\n",
        "import pandas as pd\n"
      ],
      "metadata": {
        "id": "oS3TfipWfKVH"
      },
      "execution_count": 6,
      "outputs": []
    },
    {
      "cell_type": "code",
      "source": [
        "with open('buses.txt', 'r', encoding='latin-1') as file:\n",
        "    contenido = file.read()"
      ],
      "metadata": {
        "id": "wAwFMdRhfMFW"
      },
      "execution_count": 7,
      "outputs": []
    },
    {
      "cell_type": "code",
      "source": [
        "valores = re.findall(r\"\\((.*?)\\)\", contenido)\n"
      ],
      "metadata": {
        "id": "In3FH_vLfoon"
      },
      "execution_count": 8,
      "outputs": []
    },
    {
      "cell_type": "code",
      "source": [
        "datos = [tuple(v.strip().replace(\"'\", \"\").split(\",\")) for v in valores]\n"
      ],
      "metadata": {
        "id": "VOYDYip-fwqd"
      },
      "execution_count": 9,
      "outputs": []
    },
    {
      "cell_type": "code",
      "source": [
        "df = pd.DataFrame(datos)\n"
      ],
      "metadata": {
        "id": "F4FjxwIvfx79"
      },
      "execution_count": 10,
      "outputs": []
    },
    {
      "cell_type": "code",
      "source": [
        "valores_sql = []"
      ],
      "metadata": {
        "id": "M3zu5rbGfy3t"
      },
      "execution_count": 12,
      "outputs": []
    },
    {
      "cell_type": "code",
      "source": [
        "for fila in df.itertuples(index=False):\n",
        "    valores = \", \".join([f\"'{str(valor).strip()}'\" for valor in fila])\n",
        "    valores_sql.append(f\"({valores})\")"
      ],
      "metadata": {
        "id": "T22vdW9_gZFm"
      },
      "execution_count": 13,
      "outputs": []
    },
    {
      "cell_type": "code",
      "source": [
        "sql = \"INSERT INTO Buses (Placa, Marca, Capacidad, id_tipo_bus, id_empresa, id_empleado) VALUES\\n\" + \",\\n\".join(valores_sql) + \";\"\n"
      ],
      "metadata": {
        "id": "Ky-C2Sh1gbMl"
      },
      "execution_count": 14,
      "outputs": []
    },
    {
      "cell_type": "code",
      "source": [
        "print(sql)\n"
      ],
      "metadata": {
        "id": "6ne7H8ZAgcmd",
        "outputId": "c44026c6-e8c1-4523-da62-77bad98c7d2b",
        "colab": {
          "base_uri": "https://localhost:8080/"
        }
      },
      "execution_count": 15,
      "outputs": [
        {
          "output_type": "stream",
          "name": "stdout",
          "text": [
            "INSERT INTO Buses (Placa, Marca, Capacidad, id_tipo_bus, id_empresa, id_empleado) VALUES\n",
            "('Placa', 'Marca', 'Capacidad', 'id_tipo_bus', 'id_empresa', 'id_empleado'),\n",
            "('ABC-123', 'Mercedes-Benz', '50', '001', '001', '100001'),\n",
            "('Placa', 'Marca', 'Capacidad', 'id_tipo_bus', 'id_empresa', 'id_empleado'),\n",
            "('DEF-456', 'Volvo', '40', '002', '002', '100002'),\n",
            "('Placa', 'Marca', 'Capacidad', 'id_tipo_bus', 'id_empresa', 'id_empleado'),\n",
            "('GHI-789', 'Scania', '55', '003', '003', '100003'),\n",
            "('Placa', 'Marca', 'Capacidad', 'id_tipo_bus', 'id_empresa', 'id_empleado'),\n",
            "('JKL-012', 'Iveco', '45', '004', '004', '100004'),\n",
            "('Placa', 'Marca', 'Capacidad', 'id_tipo_bus', 'id_empresa', 'id_empleado'),\n",
            "('MNO-345', 'Renault', '60', '005', '005', '100005'),\n",
            "('Placa', 'Marca', 'Capacidad', 'id_tipo_bus', 'id_empresa', 'id_empleado'),\n",
            "('PQR-678', 'Man', '50', '006', '006', '100006'),\n",
            "('Placa', 'Marca', 'Capacidad', 'id_tipo_bus', 'id_empresa', 'id_empleado'),\n",
            "('STU-901', 'Toyota', '30', '007', '007', '100007'),\n",
            "('Placa', 'Marca', 'Capacidad', 'id_tipo_bus', 'id_empresa', 'id_empleado'),\n",
            "('VWX-234', 'Isuzu', '40', '008', '008', '100008'),\n",
            "('Placa', 'Marca', 'Capacidad', 'id_tipo_bus', 'id_empresa', 'id_empleado'),\n",
            "('YZA-567', 'Chevrolet', '35', '009', '009', '100009'),\n",
            "('Placa', 'Marca', 'Capacidad', 'id_tipo_bus', 'id_empresa', 'id_empleado'),\n",
            "('BCD-890', 'Nissan', '30', '0010', '0010', '100010'),\n",
            "('Placa', 'Marca', 'Capacidad', 'id_tipo_bus', 'id_empresa', 'id_empleado'),\n",
            "('EFG-123', 'Hino', '40', '0011', '0011', '100011'),\n",
            "('Placa', 'Marca', 'Capacidad', 'id_tipo_bus', 'id_empresa', 'id_empleado'),\n",
            "('HIJ-456', 'Mitsubishi', '50', '0012', '0012', '100012'),\n",
            "('Placa', 'Marca', 'Capacidad', 'id_tipo_bus', 'id_empresa', 'id_empleado'),\n",
            "('KLM-789', 'Kia', '30', '0013', '0013', '100013'),\n",
            "('Placa', 'Marca', 'Capacidad', 'id_tipo_bus', 'id_empresa', 'id_empleado'),\n",
            "('NOP-012', 'Ford', '40', '0014', '0014', '100014'),\n",
            "('Placa', 'Marca', 'Capacidad', 'id_tipo_bus', 'id_empresa', 'id_empleado'),\n",
            "('QRS-345', 'Peugeot', '35', '0015', '0015', '100015'),\n",
            "('Placa', 'Marca', 'Capacidad', 'id_tipo_bus', 'id_empresa', 'id_empleado'),\n",
            "('TUV-678', 'Hyundai', '45', '0016', '0016', '100016'),\n",
            "('Placa', 'Marca', 'Capacidad', 'id_tipo_bus', 'id_empresa', 'id_empleado'),\n",
            "('WXY-901', 'Tata', '50', '0017', '0017', '100017'),\n",
            "('Placa', 'Marca', 'Capacidad', 'id_tipo_bus', 'id_empresa', 'id_empleado'),\n",
            "('ZAB-234', 'Daimler', '60', '0018', '0018', '100018'),\n",
            "('Placa', 'Marca', 'Capacidad', 'id_tipo_bus', 'id_empresa', 'id_empleado'),\n",
            "('CDE-567', 'Fuso', '40', '0019', '0019', '100019'),\n",
            "('Placa', 'Marca', 'Capacidad', 'id_tipo_bus', 'id_empresa', 'id_empleado'),\n",
            "('FGH-890', 'MAN', '50', '0020', '0020', '100020'),\n",
            "('Placa', 'Marca', 'Capacidad', 'id_tipo_bus', 'id_empresa', 'id_empleado'),\n",
            "('HIJ-123', 'Volvo', '45', '0021', '0021', '100021'),\n",
            "('Placa', 'Marca', 'Capacidad', 'id_tipo_bus', 'id_empresa', 'id_empleado'),\n",
            "('KLM-456', 'Scania', '55', '0022', '0022', '100022'),\n",
            "('Placa', 'Marca', 'Capacidad', 'id_tipo_bus', 'id_empresa', 'id_empleado'),\n",
            "('NOP-789', 'Iveco', '30', '0023', '0023', '100023'),\n",
            "('Placa', 'Marca', 'Capacidad', 'id_tipo_bus', 'id_empresa', 'id_empleado'),\n",
            "('QRS-012', 'Renault', '60', '0024', '0024', '100024'),\n",
            "('Placa', 'Marca', 'Capacidad', 'id_tipo_bus', 'id_empresa', 'id_empleado'),\n",
            "('TUV-345', 'Chevrolet', '35', '0025', '0025', '100025'),\n",
            "('Placa', 'Marca', 'Capacidad', 'id_tipo_bus', 'id_empresa', 'id_empleado'),\n",
            "('WXY-678', 'Nissan', '30', '0026', '0026', '100026'),\n",
            "('Placa', 'Marca', 'Capacidad', 'id_tipo_bus', 'id_empresa', 'id_empleado'),\n",
            "('ZAB-901', 'Hino', '40', '0027', '0027', '100027'),\n",
            "('Placa', 'Marca', 'Capacidad', 'id_tipo_bus', 'id_empresa', 'id_empleado'),\n",
            "('RPC-756', 'Suzuki', '15', '0028', '0028', '100028'),\n",
            "('Placa', 'Marca', 'Capacidad', 'id_tipo_bus', 'id_empresa', 'id_empleado'),\n",
            "('JXK-086', 'Mercedes-Benz', '40', '0029', '0029', '100029'),\n",
            "('Placa', 'Marca', 'Capacidad', 'id_tipo_bus', 'id_empresa', 'id_empleado'),\n",
            "('HIS-063', 'Suzuki', '25', '0030', '0030', '100030');\n"
          ]
        }
      ]
    }
  ]
}