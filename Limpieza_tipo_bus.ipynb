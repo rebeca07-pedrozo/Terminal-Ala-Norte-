{
  "nbformat": 4,
  "nbformat_minor": 0,
  "metadata": {
    "colab": {
      "provenance": [],
      "include_colab_link": true
    },
    "kernelspec": {
      "name": "python3",
      "display_name": "Python 3"
    },
    "language_info": {
      "name": "python"
    }
  },
  "cells": [
    {
      "cell_type": "markdown",
      "metadata": {
        "id": "view-in-github",
        "colab_type": "text"
      },
      "source": [
        "<a href=\"https://colab.research.google.com/github/rebeca07-pedrozo/Terminal-Ala-Norte-/blob/main/Limpieza_tipo_bus.ipynb\" target=\"_parent\"><img src=\"https://colab.research.google.com/assets/colab-badge.svg\" alt=\"Open In Colab\"/></a>"
      ]
    },
    {
      "cell_type": "code",
      "execution_count": 29,
      "metadata": {
        "id": "2VY-xjp3ZCgA",
        "colab": {
          "base_uri": "https://localhost:8080/",
          "height": 73
        },
        "outputId": "6fbca868-aaf4-427d-bde7-3d3528491d9a"
      },
      "outputs": [
        {
          "output_type": "display_data",
          "data": {
            "text/plain": [
              "<IPython.core.display.HTML object>"
            ],
            "text/html": [
              "\n",
              "     <input type=\"file\" id=\"files-42c9b168-df08-4c50-9030-096c88c1601e\" name=\"files[]\" multiple disabled\n",
              "        style=\"border:none\" />\n",
              "     <output id=\"result-42c9b168-df08-4c50-9030-096c88c1601e\">\n",
              "      Upload widget is only available when the cell has been executed in the\n",
              "      current browser session. Please rerun this cell to enable.\n",
              "      </output>\n",
              "      <script>// Copyright 2017 Google LLC\n",
              "//\n",
              "// Licensed under the Apache License, Version 2.0 (the \"License\");\n",
              "// you may not use this file except in compliance with the License.\n",
              "// You may obtain a copy of the License at\n",
              "//\n",
              "//      http://www.apache.org/licenses/LICENSE-2.0\n",
              "//\n",
              "// Unless required by applicable law or agreed to in writing, software\n",
              "// distributed under the License is distributed on an \"AS IS\" BASIS,\n",
              "// WITHOUT WARRANTIES OR CONDITIONS OF ANY KIND, either express or implied.\n",
              "// See the License for the specific language governing permissions and\n",
              "// limitations under the License.\n",
              "\n",
              "/**\n",
              " * @fileoverview Helpers for google.colab Python module.\n",
              " */\n",
              "(function(scope) {\n",
              "function span(text, styleAttributes = {}) {\n",
              "  const element = document.createElement('span');\n",
              "  element.textContent = text;\n",
              "  for (const key of Object.keys(styleAttributes)) {\n",
              "    element.style[key] = styleAttributes[key];\n",
              "  }\n",
              "  return element;\n",
              "}\n",
              "\n",
              "// Max number of bytes which will be uploaded at a time.\n",
              "const MAX_PAYLOAD_SIZE = 100 * 1024;\n",
              "\n",
              "function _uploadFiles(inputId, outputId) {\n",
              "  const steps = uploadFilesStep(inputId, outputId);\n",
              "  const outputElement = document.getElementById(outputId);\n",
              "  // Cache steps on the outputElement to make it available for the next call\n",
              "  // to uploadFilesContinue from Python.\n",
              "  outputElement.steps = steps;\n",
              "\n",
              "  return _uploadFilesContinue(outputId);\n",
              "}\n",
              "\n",
              "// This is roughly an async generator (not supported in the browser yet),\n",
              "// where there are multiple asynchronous steps and the Python side is going\n",
              "// to poll for completion of each step.\n",
              "// This uses a Promise to block the python side on completion of each step,\n",
              "// then passes the result of the previous step as the input to the next step.\n",
              "function _uploadFilesContinue(outputId) {\n",
              "  const outputElement = document.getElementById(outputId);\n",
              "  const steps = outputElement.steps;\n",
              "\n",
              "  const next = steps.next(outputElement.lastPromiseValue);\n",
              "  return Promise.resolve(next.value.promise).then((value) => {\n",
              "    // Cache the last promise value to make it available to the next\n",
              "    // step of the generator.\n",
              "    outputElement.lastPromiseValue = value;\n",
              "    return next.value.response;\n",
              "  });\n",
              "}\n",
              "\n",
              "/**\n",
              " * Generator function which is called between each async step of the upload\n",
              " * process.\n",
              " * @param {string} inputId Element ID of the input file picker element.\n",
              " * @param {string} outputId Element ID of the output display.\n",
              " * @return {!Iterable<!Object>} Iterable of next steps.\n",
              " */\n",
              "function* uploadFilesStep(inputId, outputId) {\n",
              "  const inputElement = document.getElementById(inputId);\n",
              "  inputElement.disabled = false;\n",
              "\n",
              "  const outputElement = document.getElementById(outputId);\n",
              "  outputElement.innerHTML = '';\n",
              "\n",
              "  const pickedPromise = new Promise((resolve) => {\n",
              "    inputElement.addEventListener('change', (e) => {\n",
              "      resolve(e.target.files);\n",
              "    });\n",
              "  });\n",
              "\n",
              "  const cancel = document.createElement('button');\n",
              "  inputElement.parentElement.appendChild(cancel);\n",
              "  cancel.textContent = 'Cancel upload';\n",
              "  const cancelPromise = new Promise((resolve) => {\n",
              "    cancel.onclick = () => {\n",
              "      resolve(null);\n",
              "    };\n",
              "  });\n",
              "\n",
              "  // Wait for the user to pick the files.\n",
              "  const files = yield {\n",
              "    promise: Promise.race([pickedPromise, cancelPromise]),\n",
              "    response: {\n",
              "      action: 'starting',\n",
              "    }\n",
              "  };\n",
              "\n",
              "  cancel.remove();\n",
              "\n",
              "  // Disable the input element since further picks are not allowed.\n",
              "  inputElement.disabled = true;\n",
              "\n",
              "  if (!files) {\n",
              "    return {\n",
              "      response: {\n",
              "        action: 'complete',\n",
              "      }\n",
              "    };\n",
              "  }\n",
              "\n",
              "  for (const file of files) {\n",
              "    const li = document.createElement('li');\n",
              "    li.append(span(file.name, {fontWeight: 'bold'}));\n",
              "    li.append(span(\n",
              "        `(${file.type || 'n/a'}) - ${file.size} bytes, ` +\n",
              "        `last modified: ${\n",
              "            file.lastModifiedDate ? file.lastModifiedDate.toLocaleDateString() :\n",
              "                                    'n/a'} - `));\n",
              "    const percent = span('0% done');\n",
              "    li.appendChild(percent);\n",
              "\n",
              "    outputElement.appendChild(li);\n",
              "\n",
              "    const fileDataPromise = new Promise((resolve) => {\n",
              "      const reader = new FileReader();\n",
              "      reader.onload = (e) => {\n",
              "        resolve(e.target.result);\n",
              "      };\n",
              "      reader.readAsArrayBuffer(file);\n",
              "    });\n",
              "    // Wait for the data to be ready.\n",
              "    let fileData = yield {\n",
              "      promise: fileDataPromise,\n",
              "      response: {\n",
              "        action: 'continue',\n",
              "      }\n",
              "    };\n",
              "\n",
              "    // Use a chunked sending to avoid message size limits. See b/62115660.\n",
              "    let position = 0;\n",
              "    do {\n",
              "      const length = Math.min(fileData.byteLength - position, MAX_PAYLOAD_SIZE);\n",
              "      const chunk = new Uint8Array(fileData, position, length);\n",
              "      position += length;\n",
              "\n",
              "      const base64 = btoa(String.fromCharCode.apply(null, chunk));\n",
              "      yield {\n",
              "        response: {\n",
              "          action: 'append',\n",
              "          file: file.name,\n",
              "          data: base64,\n",
              "        },\n",
              "      };\n",
              "\n",
              "      let percentDone = fileData.byteLength === 0 ?\n",
              "          100 :\n",
              "          Math.round((position / fileData.byteLength) * 100);\n",
              "      percent.textContent = `${percentDone}% done`;\n",
              "\n",
              "    } while (position < fileData.byteLength);\n",
              "  }\n",
              "\n",
              "  // All done.\n",
              "  yield {\n",
              "    response: {\n",
              "      action: 'complete',\n",
              "    }\n",
              "  };\n",
              "}\n",
              "\n",
              "scope.google = scope.google || {};\n",
              "scope.google.colab = scope.google.colab || {};\n",
              "scope.google.colab._files = {\n",
              "  _uploadFiles,\n",
              "  _uploadFilesContinue,\n",
              "};\n",
              "})(self);\n",
              "</script> "
            ]
          },
          "metadata": {}
        },
        {
          "output_type": "stream",
          "name": "stdout",
          "text": [
            "Saving tipo_bus.txt to tipo_bus (1).txt\n"
          ]
        }
      ],
      "source": [
        "from google.colab import files\n",
        "uploaded = files.upload()\n"
      ]
    },
    {
      "cell_type": "code",
      "source": [
        "import re\n",
        "import pandas as pd\n"
      ],
      "metadata": {
        "id": "oS3TfipWfKVH"
      },
      "execution_count": 30,
      "outputs": []
    },
    {
      "cell_type": "code",
      "source": [
        "with open('tipo_bus.txt', 'r', encoding='latin-1') as file:\n",
        "    contenido = file.read()"
      ],
      "metadata": {
        "id": "wAwFMdRhfMFW"
      },
      "execution_count": 39,
      "outputs": []
    },
    {
      "cell_type": "code",
      "source": [
        "valores = re.findall(r\"\\((.*?)\\)\", contenido)\n"
      ],
      "metadata": {
        "id": "In3FH_vLfoon"
      },
      "execution_count": 40,
      "outputs": []
    },
    {
      "cell_type": "code",
      "source": [
        "datos = [tuple(v.strip().replace(\"'\", \"\").split(\",\")) for v in valores]\n"
      ],
      "metadata": {
        "id": "VOYDYip-fwqd"
      },
      "execution_count": 41,
      "outputs": []
    },
    {
      "cell_type": "code",
      "source": [
        "df = pd.DataFrame(datos)\n"
      ],
      "metadata": {
        "id": "F4FjxwIvfx79"
      },
      "execution_count": 42,
      "outputs": []
    },
    {
      "cell_type": "code",
      "source": [
        "valores_sql = []"
      ],
      "metadata": {
        "id": "M3zu5rbGfy3t"
      },
      "execution_count": 43,
      "outputs": []
    },
    {
      "cell_type": "code",
      "source": [
        "for fila in df.itertuples(index=False):\n",
        "    valores = \", \".join([f\"'{str(valor).strip()}'\" for valor in fila])\n",
        "    valores_sql.append(f\"({valores})\")"
      ],
      "metadata": {
        "id": "T22vdW9_gZFm"
      },
      "execution_count": 44,
      "outputs": []
    },
    {
      "cell_type": "code",
      "source": [
        "sql = \"INSERT INTO Tipo_bus (id_tipo_bus, Nombre) VALUES \\n\" + \",\\n\".join(valores_sql) + \";\"\n"
      ],
      "metadata": {
        "id": "Ky-C2Sh1gbMl"
      },
      "execution_count": 45,
      "outputs": []
    },
    {
      "cell_type": "code",
      "source": [
        "print(sql)\n"
      ],
      "metadata": {
        "colab": {
          "base_uri": "https://localhost:8080/"
        },
        "id": "6ne7H8ZAgcmd",
        "outputId": "1c7820cb-6580-46ef-89bb-1d96d8ba5b10"
      },
      "execution_count": 46,
      "outputs": [
        {
          "output_type": "stream",
          "name": "stdout",
          "text": [
            "INSERT INTO Tipo_bus (id_tipo_bus, Nombre) VALUES \n",
            "('id_tipo_bus', 'Nombre'),\n",
            "('001', 'Bus de larga distancia'),\n",
            "('id_tipo_bus', 'Nombre'),\n",
            "('002', 'Bus intermunicipal'),\n",
            "('id_tipo_bus', 'Nombre'),\n",
            "('003', 'Bus urbano'),\n",
            "('id_tipo_bus', 'Nombre'),\n",
            "('004', 'Bus turÃ­stico'),\n",
            "('id_tipo_bus', 'Nombre'),\n",
            "('005', 'Bus escolar'),\n",
            "('id_tipo_bus', 'Nombre'),\n",
            "('006', 'Bus para eventos'),\n",
            "('id_tipo_bus', 'Nombre'),\n",
            "('007', 'Bus de transporte de mercancÃ­as'),\n",
            "('id_tipo_bus', 'Nombre'),\n",
            "('008', 'Bus adaptado para personas con discapacidad'),\n",
            "('id_tipo_bus', 'Nombre'),\n",
            "('009', 'Bus de lujo'),\n",
            "('id_tipo_bus', 'Nombre'),\n",
            "('010', 'MinibÃºs'),\n",
            "('id_tipo_bus', 'Nombre'),\n",
            "('011', 'MicrobÃºs'),\n",
            "('id_tipo_bus', 'Nombre'),\n",
            "('012', 'Bus de dos pisos'),\n",
            "('id_tipo_bus', 'Nombre'),\n",
            "('013', 'Bus expreso'),\n",
            "('id_tipo_bus', 'Nombre'),\n",
            "('014', 'Bus de trÃ¡nsito rÃ¡pido'),\n",
            "('id_tipo_bus', 'Nombre'),\n",
            "('015', 'Bus de carga'),\n",
            "('id_tipo_bus', 'Nombre'),\n",
            "('016', 'Bus de turismo de aventura'),\n",
            "('id_tipo_bus', 'Nombre'),\n",
            "('017', 'Bus de transporte rural'),\n",
            "('id_tipo_bus', 'Nombre'),\n",
            "('018', 'Bus de flota'),\n",
            "('id_tipo_bus', 'Nombre'),\n",
            "('019', 'Bus de servicio nocturno'),\n",
            "('id_tipo_bus', 'Nombre'),\n",
            "('020', 'Bus de transporte escolar'),\n",
            "('id_tipo_bus', 'Nombre'),\n",
            "('021', 'Bus de transporte turÃ­stico'),\n",
            "('id_tipo_bus', 'Nombre'),\n",
            "('022', 'Bus de asistencia mÃ©dica'),\n",
            "('id_tipo_bus', 'Nombre'),\n",
            "('023', 'Bus de transporte de personal'),\n",
            "('id_tipo_bus', 'Nombre'),\n",
            "('024', 'Bus de conexiÃ³n'),\n",
            "('id_tipo_bus', 'Nombre'),\n",
            "('025', 'Bus de cercanÃ­as'),\n",
            "('id_tipo_bus', 'Nombre'),\n",
            "('026', 'Bus de transporte universitario'),\n",
            "('id_tipo_bus', 'Nombre'),\n",
            "('027', 'Bus turÃ­stico cultural'),\n",
            "('id_tipo_bus', 'Nombre'),\n",
            "('028', 'Bus de transporte comunitario'),\n",
            "('id_tipo_bus', 'Nombre'),\n",
            "('029', 'Bus de transporte de trabajadores'),\n",
            "('id_tipo_bus', 'Nombre'),\n",
            "('030', 'Bus de transporte alternativo');\n"
          ]
        }
      ]
    }
  ]
}